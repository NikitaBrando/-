{
  "nbformat": 4,
  "nbformat_minor": 0,
  "metadata": {
    "colab": {
      "provenance": [],
      "include_colab_link": true
    },
    "kernelspec": {
      "name": "python3",
      "display_name": "Python 3"
    },
    "language_info": {
      "name": "python"
    }
  },
  "cells": [
    {
      "cell_type": "markdown",
      "metadata": {
        "id": "view-in-github",
        "colab_type": "text"
      },
      "source": [
        "<a href=\"https://colab.research.google.com/github/NikitaBrando/-/blob/main/NikiA.ipynb\" target=\"_parent\"><img src=\"https://colab.research.google.com/assets/colab-badge.svg\" alt=\"Open In Colab\"/></a>"
      ]
    },
    {
      "cell_type": "code",
      "source": [
        "pip install python-docx"
      ],
      "metadata": {
        "colab": {
          "base_uri": "https://localhost:8080/"
        },
        "id": "UPNihN0vsvT2",
        "outputId": "ebc6575c-16ed-4633-bfe1-350b60748e11"
      },
      "execution_count": null,
      "outputs": [
        {
          "output_type": "stream",
          "name": "stdout",
          "text": [
            "Requirement already satisfied: python-docx in /usr/local/lib/python3.11/dist-packages (1.1.2)\n",
            "Requirement already satisfied: lxml>=3.1.0 in /usr/local/lib/python3.11/dist-packages (from python-docx) (5.3.1)\n",
            "Requirement already satisfied: typing-extensions>=4.9.0 in /usr/local/lib/python3.11/dist-packages (from python-docx) (4.12.2)\n"
          ]
        }
      ]
    },
    {
      "cell_type": "code",
      "execution_count": null,
      "metadata": {
        "colab": {
          "base_uri": "https://localhost:8080/"
        },
        "id": "bB6TthZxi7na",
        "outputId": "ff062071-56be-4371-a3df-a19de67dc827"
      },
      "outputs": [
        {
          "output_type": "stream",
          "name": "stdout",
          "text": [
            "1 / 2 = 0\n",
            "9 = 10 = 0\n",
            "8 / 3 = 3\n",
            "7 / 4 = 2\n",
            "2 = 2 = 2\n"
          ]
        }
      ],
      "source": [
        "from random import*\n",
        "\n",
        "a='+=*/'\n",
        "for i in range(5):\n",
        "  x1 = randint(1,10)\n",
        "  x2 = randint(1,10)\n",
        "  f = choice(a)\n",
        "  if f == '+':\n",
        "    result = x1 + x2\n",
        "  if f == '-':\n",
        "    result = x1 - x2\n",
        "  if f == '/':\n",
        "    result = round(x1 / x2)\n",
        "  if f == '*':\n",
        "    result = x1 * x2\n",
        "  print(x1, f, x2, '=',result)\n",
        "  print(f\"{x1} {f} {x2} = ?\")"
      ]
    },
    {
      "cell_type": "code",
      "source": [
        "from random import *\n",
        "\n",
        "def generation_question():\n",
        "  operator='+=*/'\n",
        "  x1 = randint(1,101)\n",
        "  x2 = randint(1,101)\n",
        "  f = choice(operator)\n",
        "  if f == '+':\n",
        "    result = x1 + x2\n",
        "  if f == '-':\n",
        "    result = x1 - x2\n",
        "  if f == '/':\n",
        "    result = round(x1 / x2, 2)\n",
        "  if f == '*':\n",
        "    result = x1 * x2\n",
        "  question=f\"{x1} {f} {x2} = ?\"\n",
        "  return question,result\n",
        "\n",
        "print(generation_question())"
      ],
      "metadata": {
        "colab": {
          "base_uri": "https://localhost:8080/"
        },
        "id": "hbQacDRssD7v",
        "outputId": "e3f464bd-77a5-481b-c71c-8647689649b2"
      },
      "execution_count": null,
      "outputs": [
        {
          "output_type": "stream",
          "name": "stdout",
          "text": [
            "('57 + 28 = ?', 85)\n"
          ]
        }
      ]
    },
    {
      "cell_type": "code",
      "source": [
        "from random import *\n",
        "from docx import Document\n",
        "n=int(input('сколько вопросов вы хотите решить?'))\n",
        "\n",
        "def generation_question():\n",
        "  operator = '+-*/'\n",
        "  x1 = randint(1, 101)\n",
        "  x2 = randint(1, 101)\n",
        "  f = choice(operator)\n",
        "  if f == '+':\n",
        "    result = x1 + x2\n",
        "  if f == '-':\n",
        "    result = x1 - x2\n",
        "  if f == '*':\n",
        "    result = x1 * x2\n",
        "  if f == '/':\n",
        "    result = round(x1 / x2, 2)\n",
        "  question = f\"{x1} {f} {x2} = ?\"\n",
        "  return question, result\n",
        "\n",
        "doc_questions = Document()\n",
        "doc_answers = Document()\n",
        "\n",
        "doc_questions.add_heading('Тест по математике:', 1)\n",
        "\n",
        "questions = []\n",
        "answers = []\n",
        "for i in range(n):\n",
        "  question, answer = generation_question()\n",
        "  questions.append(question)\n",
        "  answers.append(answer)\n",
        "  doc_questions.add_paragraph(f\"{i + 1}. {question}\")\n",
        "\n",
        "doc_answers.add_heading('Ответы:', 1)\n",
        "\n",
        "for i in range(n):\n",
        "  doc_answers.add_paragraph(f\"{i + 1}. {answers[i]}\")\n",
        "\n",
        "print(f\"Тест по математике из {n} вопросов\")\n",
        "doc_questions.save('questions.docx')\n",
        "doc_answers.save('answers.docx')"
      ],
      "metadata": {
        "colab": {
          "base_uri": "https://localhost:8080/"
        },
        "id": "Bvj0iA8oxsZY",
        "outputId": "79ba1ef0-a3d5-46a8-91d7-63bc11e55616"
      },
      "execution_count": null,
      "outputs": [
        {
          "output_type": "stream",
          "name": "stdout",
          "text": [
            "сколько вопросов вы хотите решить?20\n",
            "Тест по математике из 20 вопросов\n"
          ]
        }
      ]
    },
    {
      "cell_type": "markdown",
      "source": [
        "# Новый раздел"
      ],
      "metadata": {
        "id": "pawK7LJ_TB5_"
      }
    }
  ]
}